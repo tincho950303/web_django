{
 "cells": [
  {
   "cell_type": "code",
   "execution_count": null,
   "id": "7f1fafb4-ea78-4fc2-b459-21bcb329a380",
   "metadata": {},
   "outputs": [],
   "source": []
  }
 ],
 "metadata": {
  "kernelspec": {
   "display_name": "",
   "name": ""
  },
  "language_info": {
   "name": ""
  }
 },
 "nbformat": 4,
 "nbformat_minor": 5
}
